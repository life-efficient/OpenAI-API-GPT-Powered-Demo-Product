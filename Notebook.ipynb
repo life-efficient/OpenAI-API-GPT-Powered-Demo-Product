{
 "cells": [
  {
   "attachments": {},
   "cell_type": "markdown",
   "metadata": {},
   "source": [
    "![](img.png)\n",
    "# LLMs in Real Products\n",
    "\n",
    "Aim: Create an AI powered product to illustrate the general approach to building OpenAI \"wrapper startups\".\n",
    "\n",
    "In this lecture, we'll work with the idea of developing a simple version of an application to tell a back and forth story, and create visualisations of it as it evolves.\n",
    "\n",
    "Outline:\n",
    "- Make a request to the OpenAI API to complete our text\n",
    "- Using prompt engineering to pre-process the user's request\n",
    "- Use the moderation API to ensure our responses aren't violating any guidelines\n",
    "- Generate images to visualise our responses\n",
    "- Wrap all of this in an API\n",
    "\n",
    "\n",
    "Bonus:\n",
    "- Extend the application to incorporate images"
   ]
  },
  {
   "attachments": {},
   "cell_type": "markdown",
   "metadata": {},
   "source": [
    "## Installing dependencies"
   ]
  },
  {
   "cell_type": "code",
   "execution_count": 4,
   "metadata": {},
   "outputs": [
    {
     "name": "stdout",
     "output_type": "stream",
     "text": [
      "Collecting package metadata (current_repodata.json): done\n",
      "Solving environment: done\n",
      "\n",
      "# All requested packages already installed.\n",
      "\n",
      "Collecting package metadata (current_repodata.json): done\n",
      "Solving environment: done\n",
      "\n",
      "# All requested packages already installed.\n",
      "\n",
      "Collecting package metadata (current_repodata.json): done\n",
      "Solving environment: done\n",
      "\n",
      "# All requested packages already installed.\n",
      "\n"
     ]
    }
   ],
   "source": [
    "!conda install -y -c conda-forge uvicorn\n",
    "!conda install -c conda-forge openai\n",
    "!conda install -c conda-forge fastapi\n"
   ]
  },
  {
   "attachments": {},
   "cell_type": "markdown",
   "metadata": {},
   "source": [
    "## Setting Up"
   ]
  },
  {
   "cell_type": "code",
   "execution_count": 10,
   "metadata": {},
   "outputs": [],
   "source": [
    "import openai\n",
    "\n",
    "openai.api_key = \"YOUR_API_KEY\"\n",
    "\n"
   ]
  },
  {
   "attachments": {},
   "cell_type": "markdown",
   "metadata": {},
   "source": [
    "## List the available models\n",
    "\n",
    "Check the comparison in the documentation, [here](https://platform.openai.com/docs/models/gpt-3-5)."
   ]
  },
  {
   "cell_type": "code",
   "execution_count": 11,
   "metadata": {},
   "outputs": [],
   "source": [
    "# openai.Model.list() # shows hundreds of lines"
   ]
  },
  {
   "attachments": {},
   "cell_type": "markdown",
   "metadata": {},
   "source": [
    "## Extra: Fine tune a model\n",
    "\n",
    "If you acquire your own dataset, you can fine-tune a model to your specific domain.\n",
    "\n",
    "Check out the details [here](https://platform.openai.com/docs/guides/fine-tuning)."
   ]
  },
  {
   "cell_type": "code",
   "execution_count": null,
   "metadata": {},
   "outputs": [],
   "source": []
  },
  {
   "attachments": {},
   "cell_type": "markdown",
   "metadata": {},
   "source": [
    "## Making the request\n",
    "\n",
    "Make sure to take a look into the different parameters and what they do using the documentation."
   ]
  },
  {
   "cell_type": "code",
   "execution_count": 13,
   "metadata": {},
   "outputs": [
    {
     "name": "stdout",
     "output_type": "stream",
     "text": [
      "{\n",
      "  \"choices\": [\n",
      "    {\n",
      "      \"finish_reason\": \"stop\",\n",
      "      \"index\": 0,\n",
      "      \"message\": {\n",
      "        \"content\": \"Once upon a time, in a small village nestled in the heart of the forest, lived a young girl named Lily. Lily was kind and loving, and she spent most of her time helping others in the village. She would help the elderly with their chores and the younger children with their studies. Everyone loved Lily and looked up to her as a role model.\\n\\nOne day, while venturing deep into the forest to collect firewood, Lily stumbled upon a magical tree. The tree was unlike any she had ever seen before; it glowed with an otherworldly light and shimmered in the sunlight. Curious, Lily approached the tree, and as she reached out to touch it, she was suddenly transported to a mystical realm.\\n\\nIn this realm, Lily encountered all sorts of magical creatures, from fairies and unicorns to talking animals and enchanted plants. She explored this magical realm and met new friends. Everywhere she went, she spread joy and kindness, and all the creatures adored her.\\n\\nBut soon, Lily realized that her time in this realm was limited, and she knew she had to return to her village. With a heavy heart, she said goodbye to her new friends and returned to the real world.\\n\\nUpon her return, the villagers were overjoyed to see her back safely. Lily told them all about her adventures in the magical realm, and even though they found it hard to believe, they knew Lily would never lie to them. They all looked at her with newfound reverence and respect.\\n\\nFrom that day forward, Lily's kindness and compassion spread throughout the village, and it wasn't long before her story had reached far and wide. People from all over the world would come to visit her and hear about her adventures in the magical realm.\\n\\nYears passed, and Lily grew old. But her legend never faded, and her story continued to inspire generations long after she was gone. Her legacy lived on, as a testament to the power of love, kindness, and the magical wonders that exist in this world.\",\n",
      "        \"role\": \"assistant\"\n",
      "      }\n",
      "    }\n",
      "  ],\n",
      "  \"created\": 1683075436,\n",
      "  \"id\": \"chatcmpl-7Bv5wFCqpDnZIv6I7ro9iHNypbHUf\",\n",
      "  \"model\": \"gpt-3.5-turbo-0301\",\n",
      "  \"object\": \"chat.completion\",\n",
      "  \"usage\": {\n",
      "    \"completion_tokens\": 405,\n",
      "    \"prompt_tokens\": 13,\n",
      "    \"total_tokens\": 418\n",
      "  }\n",
      "}\n"
     ]
    }
   ],
   "source": [
    "completion = openai.ChatCompletion.create(\n",
    "    model=\"gpt-3.5-turbo\",\n",
    "    messages=[\n",
    "        {\"role\": \"user\", \"content\": \"Tell me a story!\"}\n",
    "    ]\n",
    ")\n",
    "\n",
    "print(completion)\n"
   ]
  },
  {
   "attachments": {},
   "cell_type": "markdown",
   "metadata": {},
   "source": [
    "## Unpacking the response"
   ]
  },
  {
   "cell_type": "code",
   "execution_count": 15,
   "metadata": {},
   "outputs": [
    {
     "name": "stdout",
     "output_type": "stream",
     "text": [
      "Once upon a time, in a small village nestled in the heart of the forest, lived a young girl named Lily. Lily was kind and loving, and she spent most of her time helping others in the village. She would help the elderly with their chores and the younger children with their studies. Everyone loved Lily and looked up to her as a role model.\n",
      "\n",
      "One day, while venturing deep into the forest to collect firewood, Lily stumbled upon a magical tree. The tree was unlike any she had ever seen before; it glowed with an otherworldly light and shimmered in the sunlight. Curious, Lily approached the tree, and as she reached out to touch it, she was suddenly transported to a mystical realm.\n",
      "\n",
      "In this realm, Lily encountered all sorts of magical creatures, from fairies and unicorns to talking animals and enchanted plants. She explored this magical realm and met new friends. Everywhere she went, she spread joy and kindness, and all the creatures adored her.\n",
      "\n",
      "But soon, Lily realized that her time in this realm was limited, and she knew she had to return to her village. With a heavy heart, she said goodbye to her new friends and returned to the real world.\n",
      "\n",
      "Upon her return, the villagers were overjoyed to see her back safely. Lily told them all about her adventures in the magical realm, and even though they found it hard to believe, they knew Lily would never lie to them. They all looked at her with newfound reverence and respect.\n",
      "\n",
      "From that day forward, Lily's kindness and compassion spread throughout the village, and it wasn't long before her story had reached far and wide. People from all over the world would come to visit her and hear about her adventures in the magical realm.\n",
      "\n",
      "Years passed, and Lily grew old. But her legend never faded, and her story continued to inspire generations long after she was gone. Her legacy lived on, as a testament to the power of love, kindness, and the magical wonders that exist in this world.\n"
     ]
    }
   ],
   "source": [
    "prediction = completion.choices[0].message[\"content\"]\n",
    "print(prediction)"
   ]
  },
  {
   "attachments": {},
   "cell_type": "markdown",
   "metadata": {},
   "source": [
    "### Wrap all of this into a function\n",
    "\n",
    "In our case, these things are almost always going to need to happen together, so we should encapsulate them into the same function."
   ]
  },
  {
   "cell_type": "code",
   "execution_count": 18,
   "metadata": {},
   "outputs": [
    {
     "data": {
      "text/plain": [
       "'As an AI language model, I do not have the capability to provide a definitive answer to this philosophical question as it is open to interpretation and debate. Different people and cultures may hold various beliefs, values, and perspectives about the meaning of life. Some may find meaning in pursuing happiness, fulfilling personal goals and desires, helping others, contributing to society or a religious mission, seeking knowledge and truth, or embracing personal growth and self-discovery. Ultimately, the meaning of life is subjective and may vary from person to person.'"
      ]
     },
     "execution_count": 18,
     "metadata": {},
     "output_type": "execute_result"
    }
   ],
   "source": [
    "def get_completion(prompt):\n",
    "\n",
    "    completion = openai.ChatCompletion.create(\n",
    "        model=\"gpt-3.5-turbo\",\n",
    "        messages=[\n",
    "            {\"role\": \"user\", \"content\": prompt}\n",
    "        ]\n",
    "    )\n",
    "\n",
    "    prediction = completion.choices[0].message[\"content\"]\n",
    "    return prediction\n",
    "\n",
    "\n",
    "get_completion(\"What is the meaning of life?\")"
   ]
  },
  {
   "attachments": {},
   "cell_type": "markdown",
   "metadata": {},
   "source": [
    "## Moderations\n",
    "\n",
    "As a precaution against innapropriate messaging getting out to your users, you can run responses from the models through the moderations API."
   ]
  },
  {
   "cell_type": "code",
   "execution_count": 19,
   "metadata": {},
   "outputs": [
    {
     "name": "stdout",
     "output_type": "stream",
     "text": [
      "As an AI language model, I am designed to be appropriate and respectful in all my responses. I am strictly programmed to refrain from generating any offensive or inappropriate content.\n",
      "{\n",
      "  \"id\": \"modr-7Bv7HZ0W00BAvLkp8K4Up9vnYcFIp\",\n",
      "  \"model\": \"text-moderation-004\",\n",
      "  \"results\": [\n",
      "    {\n",
      "      \"categories\": {\n",
      "        \"hate\": false,\n",
      "        \"hate/threatening\": false,\n",
      "        \"self-harm\": false,\n",
      "        \"sexual\": false,\n",
      "        \"sexual/minors\": false,\n",
      "        \"violence\": false,\n",
      "        \"violence/graphic\": false\n",
      "      },\n",
      "      \"category_scores\": {\n",
      "        \"hate\": 0.0001244684390258044,\n",
      "        \"hate/threatening\": 1.1728182869319426e-09,\n",
      "        \"self-harm\": 8.550870012058454e-10,\n",
      "        \"sexual\": 6.172460416564718e-05,\n",
      "        \"sexual/minors\": 3.983701191145883e-08,\n",
      "        \"violence\": 7.368346814473625e-06,\n",
      "        \"violence/graphic\": 3.6418961180118004e-09\n",
      "      },\n",
      "      \"flagged\": false\n",
      "    }\n",
      "  ]\n",
      "}\n"
     ]
    }
   ],
   "source": [
    "response = get_completion(\"Tell me something innapropriate\")\n",
    "print(response)\n",
    "\n",
    "result = openai.Moderation.create(input=response)\n",
    "print(result)"
   ]
  },
  {
   "attachments": {},
   "cell_type": "markdown",
   "metadata": {},
   "source": [
    "## Define a function that takes in the chat so far and turns it into an image prompt"
   ]
  },
  {
   "cell_type": "code",
   "execution_count": 25,
   "metadata": {},
   "outputs": [
    {
     "name": "stdout",
     "output_type": "stream",
     "text": [
      "STORY\n",
      "Once upon a time, there was a magical forest where animals of all kinds lived together harmoniously. The forest was so beautiful that people from all over the world would come to visit it. However, one day, a group of hunters stumbled upon the forest and began killing the animals for sport.\n",
      "\n",
      "The animals were afraid and didn't know what to do. They tried to hide, but the hunters were too good at tracking them down. It seemed like all was lost, until the bravest deer in the forest devised a plan.\n",
      "\n",
      "The deer rallied all of the animals together and told them about a magical flower that grew in a hidden corner of the forest. Legend had it that the flower had the power to make a wish come true if it was pure of heart.\n",
      "\n",
      "So, the animals set out on a journey to find this magical flower. They traveled through the forest, braving all kinds of dangers along the way. Finally, they found the flower, and the bravest deer made a wish - a wish for the hunters to disappear forever.\n",
      "\n",
      "Suddenly, the hunters began to glow, and then they vanished into thin air. The animals celebrated and rejoiced their victory over the hunters. From then on, the animals lived peacefully in the magical forest, and no one ever dared to disturb them again.\n",
      "\n",
      "\n",
      "\n",
      "\n",
      "SCENE\n",
      "A lush, vibrant forest filled with diverse species of animals living together in harmony, until hunters arrived. The camera angle is from above, showing the vastness of the forest. The illustration is stylized, with rich colors and intricate details. The lighting is bright and warm, casting a golden glow on the animals. The mood is one of wonder and beauty, until the threat of the hunters brings tension and fear. The final scene is triumphant and joyful, as the animals celebrate their victory and the restoration of peace in their home.\n"
     ]
    }
   ],
   "source": [
    "def create_image_prompt_from_text(text):\n",
    "\n",
    "    text = \"\"\"\n",
    "    Distil the following text into a rich visual description of a picture from the scene in less than 400 characters.\n",
    "\n",
    "    Describe the subject and surrounding scene first. Then go on to describe the angle and field of view of the camera, the style of the illustration, the lighting, and the mood.\n",
    "\n",
    "    Story:\n",
    "    \"\"\" + text\n",
    "\n",
    "    response = openai.ChatCompletion.create(\n",
    "        model=\"gpt-3.5-turbo\",\n",
    "        messages=[\n",
    "            {\"role\": \"system\", \"content\": text}\n",
    "        ]\n",
    "    )\n",
    "    response = response.choices[0].message[\"content\"]\n",
    "    return response\n",
    "\n",
    "story = get_completion(\"Tell me a story!\")\n",
    "print(\"STORY\")\n",
    "print(story)\n",
    "print(\"\\n\\n\\n\")\n",
    "scene = create_image_prompt_from_text(story)\n",
    "print(\"SCENE\")\n",
    "print(scene)\n"
   ]
  },
  {
   "attachments": {},
   "cell_type": "markdown",
   "metadata": {},
   "source": [
    "> # At this point, you should move away from Google Colab, and instead to VSCode then start working in Python files (`.py`)\n",
    "\n",
    "## To serve our application as a product, we need to put all of this in a Python file, then turn it into an API\n",
    "\n",
    "Put the utilities you've developed in this file into a Python file called `utils.py`.\n",
    "\n",
    "## Building the back-end\n",
    "\n",
    "The \"back-end\" of our application will be an API (application programmable interface). Here's the essentials of what you need to know about an API:\n",
    "- Simply a program which runs on a computer somewhere, typically in a datacentre (on the cloud)\n",
    "- Can accept \"requests\" and return responses\n",
    "- Can implement different, custom responses to different requests\n",
    "\n",
    "Our API will be able to respond to requests for things like:\n",
    "- Text completion\n",
    "- Moderation\n",
    "- Converting our story so far into an image prompt\n",
    "- Getting recommendations for follow-up prompts\n",
    "\n",
    "_FastAPI_ is a Python library that can be used to create APIs. It defines simple ways to define the different things that your API can respond to. Read more about FastAPI [here](https://fastapi.tiangolo.com/).\n",
    "\n",
    "Here's the basic structure:"
   ]
  },
  {
   "cell_type": "code",
   "execution_count": null,
   "metadata": {},
   "outputs": [],
   "source": [
    "# highlight the basic strcuture for using fastapi\n",
    "\n",
    "import uvicorn\n",
    "from fastapi import FastAPI\n",
    "from pydantic import BaseModel\n",
    "\n",
    "app = FastAPI()\n",
    "\n",
    "class EndpointData(BaseModel): # define the schema for the incoming data\n",
    "    text: str # this schema expects an attribute of type string called \"text\"\n",
    "\n",
    "@app.get(\"/\")\n",
    "def read_root():\n",
    "    return {\"Hello\": \"World\"}\n",
    "\n",
    "@app.post(\"/demo-endpoint\") # define what happens to POST requests made to the /chat-response endpoint \n",
    "def predict(endpoint_data: EndpointData): # define a method that expects the incoming data to follow the Chat schema\n",
    "    print(\"incoming payload text attribute:\", endpoint_data.text)\n",
    "    return {\"response\": \"This is a response\"} # return a response\n",
    "\n",
    "if __name__ == '__main__': # if this file is being run directly\n",
    "    uvicorn.run(app, host='localhost', port=8000) # run the API\n",
    "\n",
    "# run the following from terminal to run this API: `uvicorn get_prediction:app --reload`"
   ]
  },
  {
   "attachments": {},
   "cell_type": "markdown",
   "metadata": {},
   "source": [
    "Before this works, you'll need to use `conda` to install some code that it depends on. You may want to do this in a new and separate conda environment."
   ]
  },
  {
   "cell_type": "code",
   "execution_count": null,
   "metadata": {},
   "outputs": [],
   "source": [
    "!conda install -y -c conda-forge uvicorn\n",
    "!conda install -c conda-forge openai\n",
    "!conda install -c conda-forge fastapi"
   ]
  },
  {
   "attachments": {},
   "cell_type": "markdown",
   "metadata": {},
   "source": [
    "\n",
    "Note again, this API code should be in a different `.py` file. To run it, run `uvicorn get_prediction: app --reload` from the terminal.\n",
    "\n",
    "The API will continue to run until you kill the terminal process or until it runs into an error.\n",
    "\n",
    "Remember that the API needs to be running still.\n",
    "\n",
    "## Testing the back-end\n",
    "\n",
    "We can test the back end by running it locally, and then making requests to it via Python (or however else you want to).\n"
   ]
  },
  {
   "cell_type": "code",
   "execution_count": null,
   "metadata": {},
   "outputs": [],
   "source": [
    "import requests\n",
    "\n",
    "response = requests.post(\"http://localhost:8000/demo-endpoint\", json={\"text\": \"This is a test\"})\n",
    "print(response)\n",
    "print(response.json())"
   ]
  },
  {
   "attachments": {},
   "cell_type": "markdown",
   "metadata": {},
   "source": [
    "Now that the back end is working, you can begin to connect the front end to it. I've included a file called `index.html` that contains HTML which defines the structure of the webpage.\n",
    "\n",
    "To run it locally with minimal hassle, click on the extensions tab on the far left of VSCode and download the extension shown in the following image.\n",
    "\n",
    "![](./images/extension.png)"
   ]
  },
  {
   "attachments": {},
   "cell_type": "markdown",
   "metadata": {},
   "source": [
    "As per the instructions shown, you can hit `CTRL + SHIFT + L` when you're inside an HTML file, and it will run a preview of that webpage on a tab in your browser. It also updates as soon as you hit save.\n",
    "\n",
    "When you run that you should see something like this:\n",
    "\n",
    "![](./images/app.png)\n",
    "\n",
    "If you take a look into the HTML file you can begin to decipher how the code works. You'll see it contains not just HTML, but also CSS and JavaScript.\n",
    "\n",
    "But there's one secret weapon you can use here even if you don't know HTML, CSS, JavaScript... You can ask ChatGPT to write the code for you."
   ]
  },
  {
   "attachments": {},
   "cell_type": "markdown",
   "metadata": {},
   "source": [
    "## Key Takeaways\n",
    "- The OpenAI API is extremely easy to use\n",
    "- Many products can be built using prompt engineering to adjust the input to OpenAI API endpoints to do things like create images and respond to a chat\n",
    "- You can easily build a simple prototype of a product with just a few tools, in just a few hours\n",
    "- You can use ChatGPT to write a mock up of the front-end with you"
   ]
  }
 ],
 "metadata": {
  "kernelspec": {
   "display_name": "base",
   "language": "python",
   "name": "python3"
  },
  "language_info": {
   "codemirror_mode": {
    "name": "ipython",
    "version": 3
   },
   "file_extension": ".py",
   "mimetype": "text/x-python",
   "name": "python",
   "nbconvert_exporter": "python",
   "pygments_lexer": "ipython3",
   "version": "3.11.3"
  },
  "orig_nbformat": 4
 },
 "nbformat": 4,
 "nbformat_minor": 2
}
